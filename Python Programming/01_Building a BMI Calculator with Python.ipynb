{
 "cells": [
  {
   "cell_type": "code",
   "execution_count": 140,
   "id": "00566b13-7b09-49d1-9fa9-e93a4ee41711",
   "metadata": {},
   "outputs": [],
   "source": [
    "def input_weight():\n",
    "    print (\"Please enter your weight:\")\n",
    "    print (\"1. kilogram\")\n",
    "    print (\"2. pounds\")\n",
    "    try:\n",
    "        weight_choice = int (input(\"Please enter 1 for kilogram or 2 for pounds\"))\n",
    "        if weight_choice == 1:\n",
    "            weight = float(input(\"Please enter your weight in Kilogram:\"))\n",
    "            if weight == 0:\n",
    "                print (\"Your weight cannot be zero!\")\n",
    "                return input_weight()\n",
    "        elif weight_choice == 2:\n",
    "            weight = float(input(\"Please enter your weight in pounds:\"))\n",
    "            if weight == 0:\n",
    "                print (\"Your weight cannot be zero!\")\n",
    "                return input_weight()\n",
    "            else:\n",
    "                weight = weight * 0.453592 # Convert pound to kilogram\n",
    "        else:\n",
    "            print (\"Invalid choice, please insert 1 or 2\")\n",
    "            return input_weight() # Recursive call for invalid input\n",
    "    except ValueError:\n",
    "            print (\"Invalid choice, you are not allowed to enter `Text`, Please Enter a `Number`!\")\n",
    "            #return input_weight() # Again recursive call for non-numeric input\n",
    "    return weight\n"
   ]
  },
  {
   "cell_type": "code",
   "execution_count": 142,
   "id": "cb0db5ed-aadc-4787-8508-33314236657d",
   "metadata": {},
   "outputs": [],
   "source": [
    "def input_height():\n",
    "    print (\"please select one of these options:\")\n",
    "    print (\"1. Cm\")\n",
    "    print (\"2. foot\")\n",
    "    try: \n",
    "        height_choice = int (input(\"Please enter 1 for CM or 2 for Foot\"))\n",
    "        if height_choice == 1:\n",
    "            height = float(input(\"Please enter your height in CM:\"))\n",
    "            if height == 0:\n",
    "                print (\"The height cannot be zero!\")\n",
    "                return input_height()\n",
    "            else:\n",
    "                height = height / 100 # Convert Centimeter to Meter\n",
    "        elif height_choice == 2:\n",
    "            feet = float(input(\"Please enter the feet part of your height, e.g., 5 for 5 feet:\"))\n",
    "            if feet == 0:\n",
    "                print (\"The height cannot be zero!\")\n",
    "                return input_height()\n",
    "            inches = float(input(\"Please enter the inches part of your height, e.g., 9 for 5'9:\"))\n",
    "            height = (feet * 30.48 + inches * 2.54) / 100  # Convert to Meters  \n",
    "        else:\n",
    "            print (\"Invalid choice, please enter 1 or 2\")\n",
    "            return input_height() # Recursive call for invalid input\n",
    "    except ValueError:\n",
    "        print (\"Invalid choice, you are not allowed to enter `Text`, Please Enter a `Number`!\")\n",
    "        return input_height() # Again recursive call for non-numeric input\n",
    "    return height     "
   ]
  },
  {
   "cell_type": "code",
   "execution_count": 144,
   "id": "4924b732-5e2a-4677-a2cd-5d9961065e07",
   "metadata": {},
   "outputs": [],
   "source": [
    "def bmi(weight, height):\n",
    "   \n",
    "    bmi = weight/(height ** 2) # Calculate BMI based on the formula\n",
    "    if bmi <= 18.4:\n",
    "        print (f\"your BMI is {bmi:.2f} you considered `UnderWeight`\")\n",
    "    elif 18.5 <= bmi < 24.9:\n",
    "        print (f\"your BMI is {bmi:.2f} you considered `Normal`\")\n",
    "    elif 25 <= bmi < 39.9:\n",
    "        print (f\"your BMI is {bmi:.2f} you considered `Overweight`\")\n",
    "    elif bmi >= 40:\n",
    "        print (f\"your BMI is {bmi:.2f} you considered `Obese`\")\n",
    "    else:\n",
    "        print (\"It might seem you entered numbers out of rages!\")\n",
    "\n",
    "    "
   ]
  },
  {
   "cell_type": "code",
   "execution_count": null,
   "id": "51ad5257-7460-4c38-9e4d-1c0a24203671",
   "metadata": {},
   "outputs": [
    {
     "name": "stdout",
     "output_type": "stream",
     "text": [
      "Please enter your weight:\n",
      "1. kilogram\n",
      "2. pounds\n"
     ]
    }
   ],
   "source": [
    "weight = input_weight()\n",
    "height = input_height()\n",
    "bmi(weight, height)"
   ]
  },
  {
   "cell_type": "code",
   "execution_count": null,
   "id": "369b341b-39f0-4a5c-bb94-7b4313d9df83",
   "metadata": {},
   "outputs": [],
   "source": []
  },
  {
   "cell_type": "code",
   "execution_count": null,
   "id": "8f4fb127-4e02-48c8-81f5-f5f9ccea873e",
   "metadata": {},
   "outputs": [],
   "source": []
  }
 ],
 "metadata": {
  "kernelspec": {
   "display_name": "Python 3 (ipykernel)",
   "language": "python",
   "name": "python3"
  },
  "language_info": {
   "codemirror_mode": {
    "name": "ipython",
    "version": 3
   },
   "file_extension": ".py",
   "mimetype": "text/x-python",
   "name": "python",
   "nbconvert_exporter": "python",
   "pygments_lexer": "ipython3",
   "version": "3.12.4"
  }
 },
 "nbformat": 4,
 "nbformat_minor": 5
}
