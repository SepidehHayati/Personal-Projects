{
 "cells": [
  {
   "cell_type": "markdown",
   "id": "ac5b9821-d381-476e-8102-9c0d334129a0",
   "metadata": {},
   "source": [
    "### Building an Automated File Sorter in File Explorer using Python"
   ]
  },
  {
   "cell_type": "markdown",
   "id": "74c92a87-f1c2-4df4-a415-4c7f99c9fffa",
   "metadata": {},
   "source": [
    "#### Import"
   ]
  },
  {
   "cell_type": "code",
   "execution_count": 140,
   "id": "a9738a15-4d21-4be4-a984-40dd2688ecdc",
   "metadata": {},
   "outputs": [],
   "source": [
    "# Importing required libraries:\n",
    "# `shutil` for file operations such as copying, moving, or deleting files.\n",
    "# `os` for working with directories, paths, and file handling.\n",
    "\n",
    "import os, shutil"
   ]
  },
  {
   "cell_type": "markdown",
   "id": "3afaedc9-6fe5-4bc3-89e5-d895dedf6c55",
   "metadata": {},
   "source": [
    "#### Access to directory path"
   ]
  },
  {
   "cell_type": "code",
   "execution_count": 142,
   "id": "2c0e3dbf-66af-4703-aa5e-642ce17e8194",
   "metadata": {},
   "outputs": [
    {
     "name": "stdout",
     "output_type": "stream",
     "text": [
      "['06- A Static Machine Learning Based Evaluation Method for Usability and Security Analysis in E-Commerce Website.pdf', '9_converting_data_types .ipynb', 'ACA-2023-01-31.xlsx', 'appelli.pdf', 'Car_plate_number.jpg', 'How_to_learn_SQL.png']\n"
     ]
    }
   ],
   "source": [
    "# Define the directory path to be organized.\n",
    "# Using `r` before the path to treat it as a raw string, which prevents escape sequences.\n",
    "path = r\"C:/Users/spdhy/Desktop/Prtfolio/python_tutorials/Project_automated_file_sorter/\"\n",
    "\n",
    "# Get a list of all files and folders in the specified directory.\n",
    "file_name = os.listdir(path)\n",
    "print (file_name)"
   ]
  },
  {
   "cell_type": "code",
   "execution_count": 154,
   "id": "5ae3684d-6024-4348-8845-8f0ff75d952e",
   "metadata": {},
   "outputs": [
    {
     "data": {
      "text/plain": [
       "True"
      ]
     },
     "execution_count": 154,
     "metadata": {},
     "output_type": "execute_result"
    }
   ],
   "source": [
    "# Check if a specific folder exists in the path. For example, check for `png_folder`.\n",
    "# The result is a boolean (True if the folder exists, False otherwise).\n",
    "os.path.exists(path + 'png_folder')"
   ]
  },
  {
   "cell_type": "markdown",
   "id": "3030e0f2-2bba-4b4d-a101-9f6521831d84",
   "metadata": {},
   "source": [
    "#### Define and create a list of folder names"
   ]
  },
  {
   "cell_type": "code",
   "execution_count": 150,
   "id": "50e86ae3-75f1-46cd-b0aa-a648c0232e5f",
   "metadata": {},
   "outputs": [],
   "source": [
    "# Define a list of folder names where specific file types will be sorted.\n",
    "folder_name = ['png_folder', 'pdf_folder', 'xlsx_folder', 'ipynb_folder', 'jpg_folder']\n",
    "\n",
    "# Loop through the list of folder names to create them if they do not exist.\n",
    "for i in range (0,5):\n",
    "    if not os.path.exists(path + folder_name[i]):   # Check if the folder does not exist.\n",
    "        os.makedirs(path + folder_name[i])   # Create the folder.\n"
   ]
  },
  {
   "cell_type": "markdown",
   "id": "fbca4ad3-b0d1-4986-b466-8725119ff9c7",
   "metadata": {},
   "source": [
    "#### Push files to respective folders"
   ]
  },
  {
   "cell_type": "code",
   "execution_count": 156,
   "id": "b47a9f93-95c9-4397-8c66-8bda2866a734",
   "metadata": {},
   "outputs": [
    {
     "name": "stdout",
     "output_type": "stream",
     "text": [
      "The file already exists in the folder!\n",
      "The file already exists in the folder!\n",
      "The file already exists in the folder!\n",
      "The file already exists in the folder!\n",
      "The file already exists in the folder!\n",
      "The file already exists in the folder!\n"
     ]
    }
   ],
   "source": [
    "# Loop through all files in the directory to organize them based on their file types.\n",
    "\n",
    "for file in file_name:\n",
    "    if \".pdf\" in file and not os.path.exists(path + \"pdf_folder/\"+ file):\n",
    "        shutil.move (path + file, path + \"pdf_folder/\"+ file)\n",
    "    elif \".png\" in file and not os.path.exists(path + \"png_folder/\"+ file):\n",
    "        shutil.move (path + file, path + \"png_folder/\"+ file)\n",
    "    elif \".xlsx\" in file and not os.path.exists(path + \"xlsx_folder/\"+ file):\n",
    "        shutil.move (path + file, path + \"xlsx_folder/\"+ file)\n",
    "    elif \".ipynb\" in file and not os.path.exists(path + \"ipynb_folder/\"+ file):\n",
    "        shutil.move (path + file, path + \"ipynb_folder/\"+ file)\n",
    "    elif \".jpg\" in file and not os.path.exists(path + \"jpg_folder/\"+ file):\n",
    "        shutil.move (path + file, path + \"jpg_folder/\"+ file)\n",
    "    else:\n",
    "        print (\"The file already exists in the folder!\")"
   ]
  }
 ],
 "metadata": {
  "kernelspec": {
   "display_name": "Python 3 (ipykernel)",
   "language": "python",
   "name": "python3"
  },
  "language_info": {
   "codemirror_mode": {
    "name": "ipython",
    "version": 3
   },
   "file_extension": ".py",
   "mimetype": "text/x-python",
   "name": "python",
   "nbconvert_exporter": "python",
   "pygments_lexer": "ipython3",
   "version": "3.12.4"
  }
 },
 "nbformat": 4,
 "nbformat_minor": 5
}
